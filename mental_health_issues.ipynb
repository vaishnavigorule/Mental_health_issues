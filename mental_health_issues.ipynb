{
 "cells": [
  {
   "cell_type": "code",
   "execution_count": 1,
   "id": "31256a7b-0200-4eb0-9f58-03c1666c32ab",
   "metadata": {},
   "outputs": [
    {
     "name": "stderr",
     "output_type": "stream",
     "text": [
      "Matplotlib is building the font cache; this may take a moment.\n"
     ]
    }
   ],
   "source": [
    "import pandas as pd\n",
    "import numpy as np\n",
    "from sklearn.model_selection import train_test_split\n",
    "from sklearn.preprocessing import LabelEncoder\n",
    "from sklearn.ensemble import RandomForestClassifier\n",
    "from sklearn.metrics import accuracy_score, classification_report, confusion_matrix\n",
    "import seaborn as sns\n",
    "import matplotlib.pyplot as plt\n"
   ]
  },
  {
   "cell_type": "code",
   "execution_count": 7,
   "id": "aa195e0c-e7fc-44b9-82ba-b895d6b97aa2",
   "metadata": {},
   "outputs": [
    {
     "name": "stdout",
     "output_type": "stream",
     "text": [
      "  Academic Pressure Social Life  Sleep Hours Physical Activity     Diet  \\\n",
      "0              High        Good            6               Yes     Good   \n",
      "1               Low     Average            4               Yes     Good   \n",
      "2              High        Good            4               Yes     Poor   \n",
      "3              High     Average            9               Yes  Average   \n",
      "4               Low     Average            9               Yes     Poor   \n",
      "\n",
      "   Screen Time Mental Health Issues  \n",
      "0            4                  Yes  \n",
      "1            8                  Yes  \n",
      "2            6                  Yes  \n",
      "3           10                  Yes  \n",
      "4            7                  Yes  \n"
     ]
    }
   ],
   "source": [
    "import pandas as pd\n",
    "\n",
    "data = pd.read_csv(r\"C:\\Users\\vaish\\Downloads\\student_mental_health_survey.csv\")\n",
    "\n",
    "# Show first few rows\n",
    "print(data.head())\n"
   ]
  },
  {
   "cell_type": "code",
   "execution_count": 8,
   "id": "c0ccdf4d-b609-4f5a-8dc3-d08c4910e34e",
   "metadata": {},
   "outputs": [
    {
     "name": "stdout",
     "output_type": "stream",
     "text": [
      "   Academic Pressure  Social Life  Sleep Hours  Physical Activity  Diet  \\\n",
      "0                  0            1            6                  1     1   \n",
      "1                  1            0            4                  1     1   \n",
      "2                  0            1            4                  1     2   \n",
      "3                  0            0            9                  1     0   \n",
      "4                  1            0            9                  1     2   \n",
      "\n",
      "   Screen Time  Mental Health Issues  \n",
      "0            4                     1  \n",
      "1            8                     1  \n",
      "2            6                     1  \n",
      "3           10                     1  \n",
      "4            7                     1  \n"
     ]
    }
   ],
   "source": [
    "from sklearn.preprocessing import LabelEncoder\n",
    "\n",
    "# Initialize an empty dictionary to store encoders (for later inverse transformation)\n",
    "label_encoders = {}\n",
    "\n",
    "# List of columns that need encoding\n",
    "categorical_columns = ['Academic Pressure', 'Social Life', 'Physical Activity', 'Diet', 'Mental Health Issues']\n",
    "\n",
    "# Apply LabelEncoder to each column\n",
    "for column in categorical_columns:\n",
    "    le = LabelEncoder()\n",
    "    data[column] = le.fit_transform(data[column])\n",
    "    label_encoders[column] = le  # Save encoder\n",
    "\n",
    "# Check the result\n",
    "print(data.head())\n"
   ]
  },
  {
   "cell_type": "code",
   "execution_count": 9,
   "id": "963a08de-4eb8-496b-9929-ef57d0ce60b3",
   "metadata": {},
   "outputs": [
    {
     "name": "stdout",
     "output_type": "stream",
     "text": [
      "Training data shape: (160, 6)\n",
      "Testing data shape: (40, 6)\n"
     ]
    }
   ],
   "source": [
    "from sklearn.model_selection import train_test_split\n",
    "\n",
    "# Separate input features (X) and target label (y)\n",
    "X = data.drop('Mental Health Issues', axis=1)  # All columns except target\n",
    "y = data['Mental Health Issues']               # Target column\n",
    "\n",
    "# Split into 80% train and 20% test\n",
    "X_train, X_test, y_train, y_test = train_test_split(\n",
    "    X, y, test_size=0.2, random_state=42)\n",
    "\n",
    "# Check dimensions\n",
    "print(\"Training data shape:\", X_train.shape)\n",
    "print(\"Testing data shape:\", X_test.shape)\n"
   ]
  },
  {
   "cell_type": "code",
   "execution_count": 10,
   "id": "2d7985a3-e730-44ee-8fb3-56cd6b2808b4",
   "metadata": {},
   "outputs": [
    {
     "name": "stdout",
     "output_type": "stream",
     "text": [
      "Model training completed.\n"
     ]
    }
   ],
   "source": [
    "from sklearn.ensemble import RandomForestClassifier\n",
    "\n",
    "# Create the model\n",
    "model = RandomForestClassifier(n_estimators=100, random_state=42)\n",
    "\n",
    "# Train the model on training data\n",
    "model.fit(X_train, y_train)\n",
    "\n",
    "# Confirm training is done\n",
    "print(\"Model training completed.\")\n"
   ]
  },
  {
   "cell_type": "code",
   "execution_count": 14,
   "id": "5fa08ceb-71e9-4fc3-8f37-17c9a8a6bb17",
   "metadata": {},
   "outputs": [
    {
     "name": "stdout",
     "output_type": "stream",
     "text": [
      " Accuracy: 0.425\n",
      "\n",
      " Classification Report:\n",
      "               precision    recall  f1-score   support\n",
      "\n",
      "           0       0.33      0.53      0.41        15\n",
      "           1       0.56      0.36      0.44        25\n",
      "\n",
      "    accuracy                           0.42        40\n",
      "   macro avg       0.45      0.45      0.42        40\n",
      "weighted avg       0.48      0.42      0.43        40\n",
      "\n",
      "\n",
      " Confusion Matrix:\n",
      " [[ 8  7]\n",
      " [16  9]]\n"
     ]
    },
    {
     "data": {
      "image/png": "[encoded data removed]",
      "text/plain": [
       "<Figure size 600x400 with 2 Axes>"
      ]
     },
     "metadata": {},
     "output_type": "display_data"
    }
   ],
   "source": [
    "from sklearn.metrics import accuracy_score, classification_report, confusion_matrix\n",
    "import seaborn as sns\n",
    "import matplotlib.pyplot as plt\n",
    "\n",
    "# Make predictions on test set\n",
    "y_pred = model.predict(X_test)\n",
    "\n",
    "# Print accuracy\n",
    "print(\" Accuracy:\", accuracy_score(y_test, y_pred))\n",
    "\n",
    "# Detailed classification report\n",
    "print(\"\\n Classification Report:\\n\", classification_report(y_test, y_pred))\n",
    "\n",
    "# Confusion matrix\n",
    "cm = confusion_matrix(y_test, y_pred)\n",
    "print(\"\\n Confusion Matrix:\\n\", cm)\n",
    "\n",
    "# Plot confusion matrix\n",
    "plt.figure(figsize=(6,4))\n",
    "sns.heatmap(cm, annot=True, fmt='d', cmap='Blues', xticklabels=['No', 'Yes'], yticklabels=['No', 'Yes'])\n",
    "plt.xlabel(\"Predicted\")\n",
    "plt.ylabel(\"Actual\")\n",
    "plt.title(\"Confusion Matrix\")\n",
    "plt.show()\n"
   ]
  },
  {
   "cell_type": "code",
   "execution_count": 15,
   "id": "5885adf4-2100-4c5a-a0eb-f6ee034b7575",
   "metadata": {},
   "outputs": [],
   "source": [
    "# Example survey data from a student\n",
    "new_student = pd.DataFrame([{\n",
    "    'Academic Pressure': label_encoders['Academic Pressure'].transform(['High'])[0],\n",
    "    'Social Life': label_encoders['Social Life'].transform(['Poor'])[0],\n",
    "    'Sleep Hours': 5,\n",
    "    'Physical Activity': label_encoders['Physical Activity'].transform(['No'])[0],\n",
    "    'Diet': label_encoders['Diet'].transform(['Poor'])[0],\n",
    "    'Screen Time': 9\n",
    "}])\n"
   ]
  },
  {
   "cell_type": "code",
   "execution_count": 16,
   "id": "ae046ecd-4575-45a6-a062-5ef1f6395c3e",
   "metadata": {},
   "outputs": [
    {
     "name": "stdout",
     "output_type": "stream",
     "text": [
      " Mental Health Risk Prediction: Yes\n"
     ]
    }
   ],
   "source": [
    "# Make prediction\n",
    "prediction = model.predict(new_student)\n",
    "\n",
    "# Convert numerical output back to label (Yes/No)\n",
    "result = label_encoders['Mental Health Issues'].inverse_transform(prediction)[0]\n",
    "\n",
    "print(\" Mental Health Risk Prediction:\", result)\n"
   ]
  },
  {
   "cell_type": "code",
   "execution_count": 18,
   "id": "b34107f4-8b4d-4876-9d61-a80abff7327b",
   "metadata": {},
   "outputs": [
    {
     "name": "stderr",
     "output_type": "stream",
     "text": [
      "C:\\Users\\vaish\\AppData\\Local\\Temp\\ipykernel_15336\\3746940409.py:16: FutureWarning: \n",
      "\n",
      "Passing `palette` without assigning `hue` is deprecated and will be removed in v0.14.0. Assign the `y` variable to `hue` and set `legend=False` for the same effect.\n",
      "\n",
      "  sns.barplot(data=importance_df, x='Importance', y='Feature', palette='viridis')\n"
     ]
    },
    {
     "data": {
      "image/png": "[encoded data removed]",
      "text/plain": [
       "<Figure size 800x500 with 1 Axes>"
      ]
     },
     "metadata": {},
     "output_type": "display_data"
    }
   ],
   "source": [
    "# Get feature importance from the trained model\n",
    "importances = model.feature_importances_\n",
    "feature_names = X.columns\n",
    "\n",
    "# Create a DataFrame for easy plotting\n",
    "importance_df = pd.DataFrame({\n",
    "    'Feature': feature_names,\n",
    "    'Importance': importances\n",
    "}).sort_values(by='Importance', ascending=False)\n",
    "\n",
    "# Plot using seaborn\n",
    "import seaborn as sns\n",
    "import matplotlib.pyplot as plt\n",
    "\n",
    "plt.figure(figsize=(8,5))\n",
    "sns.barplot(data=importance_df, x='Importance', y='Feature', palette='viridis')\n",
    "plt.title(\" Feature Importance in Mental Health Prediction\")\n",
    "plt.xlabel(\"Importance Score\")\n",
    "plt.ylabel(\"Feature\")\n",
    "plt.tight_layout()\n",
    "plt.show()\n"
   ]
  },
  {
   "cell_type": "code",
   "execution_count": null,
   "id": "289fb61a-4971-46c4-835e-251899eca261",
   "metadata": {},
   "outputs": [],
   "source": []
  }
 ],
 "metadata": {
  "kernelspec": {
   "display_name": "Python 3 (ipykernel)",
   "language": "python",
   "name": "python3"
  },
  "language_info": {
   "codemirror_mode": {
    "name": "ipython",
    "version": 3
   },
   "file_extension": ".py",
   "mimetype": "text/x-python",
   "name": "python",
   "nbconvert_exporter": "python",
   "pygments_lexer": "ipython3",
   "version": "3.12.0"
  }
 },
 "nbformat": 4,
 "nbformat_minor": 5
}
